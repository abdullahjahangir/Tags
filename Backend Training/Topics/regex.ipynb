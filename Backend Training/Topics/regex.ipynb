{
 "cells": [
  {
   "cell_type": "markdown",
   "metadata": {},
   "source": [
    "### finditer"
   ]
  },
  {
   "cell_type": "code",
   "execution_count": 17,
   "metadata": {},
   "outputs": [
    {
     "name": "stdout",
     "output_type": "stream",
     "text": [
      "<re.Match object; span=(3, 6), match='abc'>\n",
      "(3, 6) 3 6 abc\n",
      "<re.Match object; span=(12, 15), match='abc'>\n",
      "(12, 15) 12 15 abc\n"
     ]
    }
   ],
   "source": [
    "import re\n",
    "\n",
    "test_string = r\"123abc456789abc123ABC\"\n",
    "\n",
    "pattern = re.compile(r\"abc\")\n",
    "matches = pattern.finditer(test_string)\n",
    "\n",
    "for match in matches:\n",
    "    print(match)\n",
    "    print(match.span(), match.start(), match.end(), match.group())"
   ]
  },
  {
   "cell_type": "markdown",
   "metadata": {},
   "source": [
    "### Findall"
   ]
  },
  {
   "cell_type": "code",
   "execution_count": 7,
   "metadata": {},
   "outputs": [
    {
     "name": "stdout",
     "output_type": "stream",
     "text": [
      "abc\n",
      "abc\n"
     ]
    }
   ],
   "source": [
    "import re\n",
    "\n",
    "test_string = r\"123abc456789abc123ABC\"\n",
    "\n",
    "pattern = re.compile(r\"abc\")\n",
    "matches = pattern.findall(test_string)\n",
    "\n",
    "for match in matches:\n",
    "    print(match)"
   ]
  },
  {
   "cell_type": "markdown",
   "metadata": {},
   "source": [
    "### Match"
   ]
  },
  {
   "cell_type": "code",
   "execution_count": 15,
   "metadata": {},
   "outputs": [
    {
     "name": "stdout",
     "output_type": "stream",
     "text": [
      "None\n"
     ]
    }
   ],
   "source": [
    "### Gets pattern if it is present in the beginning\n",
    "import re\n",
    "\n",
    "test_string = r\"123abc456789abc123ABC\"\n",
    "\n",
    "pattern = re.compile(r\"abc\")\n",
    "match = pattern.match(test_string)\n",
    "\n",
    "print(match)"
   ]
  },
  {
   "cell_type": "markdown",
   "metadata": {},
   "source": [
    "### Search"
   ]
  },
  {
   "cell_type": "code",
   "execution_count": 20,
   "metadata": {},
   "outputs": [
    {
     "name": "stdout",
     "output_type": "stream",
     "text": [
      "<re.Match object; span=(3, 6), match='abc'>\n"
     ]
    }
   ],
   "source": [
    "### Returns First Match\n",
    "import re\n",
    "\n",
    "test_string = r\"123abc456789abc123ABC\"\n",
    "\n",
    "pattern = re.compile(r\"abc\")\n",
    "match = pattern.search(test_string)\n",
    "\n",
    "print(match)"
   ]
  },
  {
   "cell_type": "markdown",
   "metadata": {},
   "source": [
    "### Meta Character"
   ]
  },
  {
   "cell_type": "code",
   "execution_count": 25,
   "metadata": {},
   "outputs": [
    {
     "name": "stdout",
     "output_type": "stream",
     "text": [
      "[]\n",
      "[<re.Match object; span=(18, 21), match='ABC'>]\n"
     ]
    }
   ],
   "source": [
    "import re\n",
    "\n",
    "test_string = r\"123abc456789abc123ABC\"\n",
    "\n",
    "print([i for i in re.finditer(r\"^abc\",test_string)])  # search at beginning\n",
    "print([i for i in re.finditer(r\"ABC$\",test_string)])  # search at end\n"
   ]
  },
  {
   "cell_type": "markdown",
   "metadata": {},
   "source": [
    "### Special Characters"
   ]
  },
  {
   "cell_type": "code",
   "execution_count": 37,
   "metadata": {},
   "outputs": [
    {
     "name": "stdout",
     "output_type": "stream",
     "text": [
      "['e', 'l', 'o']\n",
      "['1', '2']\n",
      "['h', 'e', 'l', 'o']\n",
      "['L']\n",
      "['h', 'e', 'l', 'L', 'o', '1', '2', '3']\n",
      "['1', '2', '3']\n"
     ]
    }
   ],
   "source": [
    "import re\n",
    "\n",
    "test_string = r\"helLo 123_\"\n",
    "\n",
    "print([i.group() for i in re.finditer(r\"[elo]\",test_string)])  # Find charcter in set(e,l,o)\n",
    "print([i.group() for i in re.finditer(r\"[12]\",test_string)])  # Find charcter in set(1,2)\n",
    "print([i.group() for i in re.finditer(r\"[a-z]\",test_string)])  # Find charcter in lower case\n",
    "print([i.group() for i in re.finditer(r\"[A-Z]\",test_string)])  # Find charcter in upper case \n",
    "print([i.group() for i in re.finditer(r\"[a-zA-Z0-9]\",test_string)])  # Find charcter in lower and upper case and numbers \n",
    "print([i.group() for i in re.finditer(r\"[0-9]\",test_string)])  # Find charcter in 0-9 \n"
   ]
  },
  {
   "cell_type": "markdown",
   "metadata": {},
   "source": [
    "### Sets"
   ]
  },
  {
   "cell_type": "code",
   "execution_count": null,
   "metadata": {},
   "outputs": [],
   "source": [
    "import re\n",
    "\n",
    "test_string = r\"hello 123_ heyho hohey\"\n",
    "\n",
    "print([i.group() for i in re.finditer(r\"\\d\",test_string)])  # Find Digits 0-9\n",
    "print([i.group() for i in re.finditer(r\"\\D\",test_string)])  # Find Non Digits \n",
    "print([i.group() for i in re.finditer(r\"\\s\",test_string)])  # Find space characters \n",
    "print([i.group() for i in re.finditer(r\"\\S\",test_string)])  # Find Non space characters\n",
    "print([i.group() for i in re.finditer(r\"\\w\",test_string)])  # Find Alpha Numeric characters\n",
    "print([i.group() for i in re.finditer(r\"\\W\",test_string)])  # Find Non Alpha Numeric (Spaces) characters\n",
    "print([i.group() for i in re.finditer(r\"\\bho\",test_string)])  # Find pattern in start of block characters\n",
    "print([i.group() for i in re.finditer(r\"\\Bhey\",test_string)])  # Find pattern in end of block characters\n"
   ]
  },
  {
   "cell_type": "markdown",
   "metadata": {},
   "source": [
    "### Qualifier"
   ]
  },
  {
   "cell_type": "code",
   "execution_count": 38,
   "metadata": {},
   "outputs": [
    {
     "name": "stdout",
     "output_type": "stream",
     "text": [
      "['', '', '', '', '', '', '123', '']\n",
      "['123']\n",
      "['_123']\n",
      "['123']\n"
     ]
    }
   ],
   "source": [
    "import re\n",
    "\n",
    "test_string = r\"hello_123\"\n",
    "\n",
    "print([i.group() for i in re.finditer(r\"\\d*\",test_string)])  # Find get 0 or many instances\n",
    "print([i.group() for i in re.finditer(r\"\\d+\",test_string)])  # Find get 1 or many instances \n",
    "print([i.group() for i in re.finditer(r\"_?\\d+\",test_string)])  # Find ? 0 or 1\n",
    "print([i.group() for i in re.finditer(r\"\\d{3}\",test_string)])  # Find no of instaces\n"
   ]
  },
  {
   "cell_type": "markdown",
   "metadata": {},
   "source": [
    "### Practice "
   ]
  },
  {
   "cell_type": "code",
   "execution_count": 46,
   "metadata": {},
   "outputs": [
    {
     "name": "stdout",
     "output_type": "stream",
     "text": [
      "['01.04.2020', '13.05.2020']\n",
      "['01-04-2020', '19-11-2024', '09-01-2021']\n",
      "['2009-01-21', '2019-12-31']\n",
      "['2029/12/07', '2019/10/25']\n"
     ]
    }
   ],
   "source": [
    "import re\n",
    "\n",
    "dates = \"\"\"\n",
    "helo\n",
    "01.04.2020\n",
    "13.05.2020\n",
    "01-04-2020\n",
    "19-11-2024\n",
    "hi\n",
    "09-01-2021\n",
    "hode\n",
    "2009-01-21\n",
    "2019-12-31\n",
    "2029/12/07\n",
    "lop\n",
    "2019/10/25\n",
    "\"\"\"\n",
    "\n",
    "print([i.group() for i in re.finditer(r\"\\d{2}\\.\\d{2}\\.\\d{4}\",dates)])\n",
    "print([i.group() for i in re.finditer(r\"\\d{2}-\\d{2}-\\d{4}\",dates)])\n",
    "print([i.group() for i in re.finditer(r\"\\d{4}-\\d{2}-\\d{2}\",dates)])\n",
    "print([i.group() for i in re.finditer(r\"\\d{4}/\\d{2}/\\d{2}\",dates)])\n"
   ]
  },
  {
   "cell_type": "markdown",
   "metadata": {},
   "source": [
    "### Grouping"
   ]
  },
  {
   "cell_type": "code",
   "execution_count": 16,
   "metadata": {},
   "outputs": [
    {
     "name": "stdout",
     "output_type": "stream",
     "text": [
      "['Mr Saud', 'Mrs Saud', 'Mr. Bilawal', 'Ms Ahmed', 'Mr. Umer']\n",
      "['abdullahalijahangir1234@gmail.com', 'abdullah12ali34_@tags.org', 'Bitf19a015@pucit.pk']\n"
     ]
    }
   ],
   "source": [
    "import re\n",
    "\n",
    "dates = \"\"\"\n",
    "Mr Saud\n",
    "hello\n",
    "120kcxe02\n",
    "Mrs Saud\n",
    "Mr. Bilawal\n",
    "Ms Ahmed\n",
    "12-23-2020\n",
    "Mr. Umer\n",
    "abdullahalijahangir1234@gmail.com\n",
    "abdullah12ali34_@tags.org\n",
    "Bitf19a015@pucit.pk\n",
    "\"\"\"\n",
    "\n",
    "print([i.group() for i in re.finditer(r\"(Mr|Mrs|Ms)\\.?\\s\\w+\",dates)])\n",
    "print([i.group() for i in re.finditer(r\"([a-zA-Z0-9_-])+@([a-zA-Z0-9_-]+)\\.+([a-zA-Z0-9_-]+)\",dates)])\n"
   ]
  },
  {
   "cell_type": "code",
   "execution_count": null,
   "metadata": {},
   "outputs": [],
   "source": []
  }
 ],
 "metadata": {
  "kernelspec": {
   "display_name": "Python 3",
   "language": "python",
   "name": "python3"
  },
  "language_info": {
   "codemirror_mode": {
    "name": "ipython",
    "version": 3
   },
   "file_extension": ".py",
   "mimetype": "text/x-python",
   "name": "python",
   "nbconvert_exporter": "python",
   "pygments_lexer": "ipython3",
   "version": "3.9.7"
  }
 },
 "nbformat": 4,
 "nbformat_minor": 2
}
